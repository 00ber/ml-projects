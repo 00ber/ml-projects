{
  "nbformat": 4,
  "nbformat_minor": 0,
  "metadata": {
    "colab": {
      "provenance": [],
      "authorship_tag": "ABX9TyPYfnBBMHAx9CeTfVW2amZt",
      "include_colab_link": true
    },
    "kernelspec": {
      "name": "python3",
      "display_name": "Python 3"
    },
    "language_info": {
      "name": "python"
    }
  },
  "cells": [
    {
      "cell_type": "markdown",
      "metadata": {
        "id": "view-in-github",
        "colab_type": "text"
      },
      "source": [
        "<a href=\"https://colab.research.google.com/github/00ber/ml-projects/blob/main/FashionMNIST_autoencoder.ipynb\" target=\"_parent\"><img src=\"https://colab.research.google.com/assets/colab-badge.svg\" alt=\"Open In Colab\"/></a>"
      ]
    },
    {
      "cell_type": "code",
      "execution_count": 12,
      "metadata": {
        "id": "NOhyoKFz3SP1"
      },
      "outputs": [],
      "source": [
        "import matplotlib.pyplot as plt\n",
        "import numpy as np\n",
        "import pandas as pd\n",
        "import tensorflow as tf\n",
        "\n",
        "from sklearn.metrics import accuracy_score, precision_score, recall_score\n",
        "from sklearn.model_selection import train_test_split\n",
        "from tensorflow.keras import layers, losses\n",
        "from tensorflow.keras.datasets import fashion_mnist\n",
        "from tensorflow.keras.models import Model"
      ]
    },
    {
      "cell_type": "code",
      "source": [
        "\n",
        "(x_train, _), (x_test, _) = fashion_mnist.load_data()\n",
        "\n",
        "x_train = x_train.astype('float32') / 255.\n",
        "x_test = x_test.astype('float32') / 255.\n",
        "\n",
        "print (x_train.shape)\n",
        "print (x_test.shape)\n"
      ],
      "metadata": {
        "colab": {
          "base_uri": "https://localhost:8080/"
        },
        "id": "B6S4K4cr3jQn",
        "outputId": "43fc0052-ace0-4c5d-b8a5-f70d2216f4ed"
      },
      "execution_count": 13,
      "outputs": [
        {
          "output_type": "stream",
          "name": "stdout",
          "text": [
            "(60000, 28, 28)\n",
            "(10000, 28, 28)\n"
          ]
        }
      ]
    },
    {
      "cell_type": "code",
      "source": [
        "latent_dim_size = 60 \n",
        "\n",
        "class Autoencoder(Model):\n",
        "  def __init__(self, latent_dim_size):\n",
        "    super(Autoencoder, self).__init__()\n",
        "    self.latent_dim_size = latent_dim_size   \n",
        "    self.encoder = tf.keras.Sequential([\n",
        "        tf.keras.layers.InputLayer(input_shape=(28, 28, 1)),\n",
        "        tf.keras.layers.Conv2D(32, 1, activation='relu'),\n",
        "        tf.keras.layers.Flatten(),\n",
        "        tf.keras.layers.Dense(latent_dim_size)\n",
        "    ])\n",
        "    self.decoder = tf.keras.Sequential([\n",
        "        layers.InputLayer(input_shape=(latent_dim_size,)),\n",
        "        layers.Dense(784, activation='relu'),\n",
        "        layers.Reshape((28, 28))\n",
        "    ])\n",
        "\n",
        "  def call(self, x):\n",
        "    encoded = self.encoder(x)\n",
        "    decoded = self.decoder(encoded)\n",
        "    return decoded\n",
        "\n",
        "autoencoder = Autoencoder(latent_dim_size)"
      ],
      "metadata": {
        "id": "2IX5KqnC3w2C"
      },
      "execution_count": 43,
      "outputs": []
    },
    {
      "cell_type": "code",
      "source": [
        "autoencoder.compile(optimizer='adam', loss=losses.MeanSquaredError())"
      ],
      "metadata": {
        "id": "aeGRChGt4a_4"
      },
      "execution_count": 44,
      "outputs": []
    },
    {
      "cell_type": "code",
      "source": [
        "autoencoder.fit(x_train, x_train,\n",
        "                epochs=20,\n",
        "                shuffle=True,\n",
        "                validation_data=(x_test, x_test))"
      ],
      "metadata": {
        "colab": {
          "base_uri": "https://localhost:8080/"
        },
        "id": "BvdsHnxb7n4H",
        "outputId": "bdf44a2b-9d17-41a3-a0a5-12da74061092"
      },
      "execution_count": 45,
      "outputs": [
        {
          "output_type": "stream",
          "name": "stdout",
          "text": [
            "Epoch 1/20\n",
            "1875/1875 [==============================] - 71s 37ms/step - loss: 0.0193 - val_loss: 0.0117\n",
            "Epoch 2/20\n",
            "1875/1875 [==============================] - 66s 35ms/step - loss: 0.0109 - val_loss: 0.0104\n",
            "Epoch 3/20\n",
            "1875/1875 [==============================] - 66s 35ms/step - loss: 0.0099 - val_loss: 0.0096\n",
            "Epoch 4/20\n",
            "1875/1875 [==============================] - 66s 35ms/step - loss: 0.0095 - val_loss: 0.0094\n",
            "Epoch 5/20\n",
            "1875/1875 [==============================] - 68s 36ms/step - loss: 0.0094 - val_loss: 0.0094\n",
            "Epoch 6/20\n",
            "1875/1875 [==============================] - 69s 37ms/step - loss: 0.0093 - val_loss: 0.0093\n",
            "Epoch 7/20\n",
            "1875/1875 [==============================] - 67s 36ms/step - loss: 0.0093 - val_loss: 0.0093\n",
            "Epoch 8/20\n",
            "1875/1875 [==============================] - 68s 36ms/step - loss: 0.0092 - val_loss: 0.0093\n",
            "Epoch 9/20\n",
            "1875/1875 [==============================] - 69s 37ms/step - loss: 0.0090 - val_loss: 0.0089\n",
            "Epoch 10/20\n",
            "1875/1875 [==============================] - 68s 36ms/step - loss: 0.0089 - val_loss: 0.0090\n",
            "Epoch 11/20\n",
            "1875/1875 [==============================] - 67s 36ms/step - loss: 0.0088 - val_loss: 0.0089\n",
            "Epoch 12/20\n",
            "1875/1875 [==============================] - 67s 36ms/step - loss: 0.0088 - val_loss: 0.0089\n",
            "Epoch 13/20\n",
            "1875/1875 [==============================] - 63s 34ms/step - loss: 0.0088 - val_loss: 0.0088\n",
            "Epoch 14/20\n",
            "1875/1875 [==============================] - 68s 36ms/step - loss: 0.0088 - val_loss: 0.0088\n",
            "Epoch 15/20\n",
            "1875/1875 [==============================] - 67s 36ms/step - loss: 0.0087 - val_loss: 0.0088\n",
            "Epoch 16/20\n",
            "1875/1875 [==============================] - 72s 38ms/step - loss: 0.0087 - val_loss: 0.0088\n",
            "Epoch 17/20\n",
            "1875/1875 [==============================] - 69s 37ms/step - loss: 0.0087 - val_loss: 0.0088\n",
            "Epoch 18/20\n",
            "1875/1875 [==============================] - 67s 36ms/step - loss: 0.0087 - val_loss: 0.0088\n",
            "Epoch 19/20\n",
            "1875/1875 [==============================] - 65s 35ms/step - loss: 0.0087 - val_loss: 0.0088\n",
            "Epoch 20/20\n",
            "1875/1875 [==============================] - 66s 35ms/step - loss: 0.0087 - val_loss: 0.0088\n"
          ]
        },
        {
          "output_type": "execute_result",
          "data": {
            "text/plain": [
              "<keras.callbacks.History at 0x7f9edc4a5340>"
            ]
          },
          "metadata": {},
          "execution_count": 45
        }
      ]
    },
    {
      "cell_type": "code",
      "source": [
        "encoded_imgs = autoencoder.encoder(x_test).numpy()\n",
        "decoded_imgs = autoencoder.decoder(encoded_imgs).numpy()"
      ],
      "metadata": {
        "id": "FvhbvNfP7s5M"
      },
      "execution_count": 46,
      "outputs": []
    },
    {
      "cell_type": "code",
      "source": [
        "n = 10\n",
        "plt.figure(figsize=(20, 4))\n",
        "for i in range(n):\n",
        "  # display original\n",
        "  ax = plt.subplot(2, n, i + 1)\n",
        "  plt.imshow(x_test[i])\n",
        "  plt.title(\"original\")\n",
        "  plt.gray()\n",
        "  ax.get_xaxis().set_visible(False)\n",
        "  ax.get_yaxis().set_visible(False)\n",
        "\n",
        "  # display reconstruction\n",
        "  ax = plt.subplot(2, n, i + 1 + n)\n",
        "  plt.imshow(decoded_imgs[i])\n",
        "  plt.title(\"reconstructed\")\n",
        "  plt.gray()\n",
        "  ax.get_xaxis().set_visible(False)\n",
        "  ax.get_yaxis().set_visible(False)\n",
        "plt.show()"
      ],
      "metadata": {
        "colab": {
          "base_uri": "https://localhost:8080/",
          "height": 264
        },
        "id": "cUwUb34U_npk",
        "outputId": "37430b51-e586-4055-b6a6-e519ead65c0f"
      },
      "execution_count": 47,
      "outputs": [
        {
          "output_type": "display_data",
          "data": {
            "text/plain": [
              "<Figure size 1440x288 with 20 Axes>"
            ],
            "image/png": "[encoded data removed]"
          },
          "metadata": {
            "needs_background": "light"
          }
        }
      ]
    },
    {
      "cell_type": "code",
      "source": [],
      "metadata": {
        "id": "X5Giynzn_p-B"
      },
      "execution_count": null,
      "outputs": []
    }
  ]
}